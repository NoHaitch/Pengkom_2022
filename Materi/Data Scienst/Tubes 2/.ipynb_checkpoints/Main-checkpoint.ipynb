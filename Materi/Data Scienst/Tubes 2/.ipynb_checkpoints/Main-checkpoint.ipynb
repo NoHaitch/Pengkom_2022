{
 "cells": [
  {
   "cell_type": "code",
   "execution_count": 1,
   "id": "1e4b7ad0-7a93-4481-818b-228c11a4ad9b",
   "metadata": {},
   "outputs": [
    {
     "data": {
      "text/html": [
       "<div>\n",
       "<style scoped>\n",
       "    .dataframe tbody tr th:only-of-type {\n",
       "        vertical-align: middle;\n",
       "    }\n",
       "\n",
       "    .dataframe tbody tr th {\n",
       "        vertical-align: top;\n",
       "    }\n",
       "\n",
       "    .dataframe thead th {\n",
       "        text-align: right;\n",
       "    }\n",
       "</style>\n",
       "<table border=\"1\" class=\"dataframe\">\n",
       "  <thead>\n",
       "    <tr style=\"text-align: right;\">\n",
       "      <th></th>\n",
       "      <th>Job Title</th>\n",
       "      <th>Salary Estimate</th>\n",
       "      <th>Job Description</th>\n",
       "      <th>Rating</th>\n",
       "      <th>Company Name</th>\n",
       "      <th>Location</th>\n",
       "      <th>Headquarters</th>\n",
       "      <th>Size</th>\n",
       "      <th>Founded</th>\n",
       "      <th>Type of ownership</th>\n",
       "      <th>...</th>\n",
       "      <th>tensor</th>\n",
       "      <th>hadoop</th>\n",
       "      <th>tableau</th>\n",
       "      <th>bi</th>\n",
       "      <th>flink</th>\n",
       "      <th>mongo</th>\n",
       "      <th>google_an</th>\n",
       "      <th>job_title_sim</th>\n",
       "      <th>seniority_by_title</th>\n",
       "      <th>Degree</th>\n",
       "    </tr>\n",
       "  </thead>\n",
       "  <tbody>\n",
       "    <tr>\n",
       "      <th>0</th>\n",
       "      <td>Data Scientist</td>\n",
       "      <td>$53K-$91K (Glassdoor est.)</td>\n",
       "      <td>Data Scientist\\nLocation: Albuquerque, NM\\nEdu...</td>\n",
       "      <td>3.8</td>\n",
       "      <td>Tecolote Research\\n3.8</td>\n",
       "      <td>Albuquerque, NM</td>\n",
       "      <td>Goleta, CA</td>\n",
       "      <td>501 - 1000</td>\n",
       "      <td>1973</td>\n",
       "      <td>Company - Private</td>\n",
       "      <td>...</td>\n",
       "      <td>0</td>\n",
       "      <td>0</td>\n",
       "      <td>1</td>\n",
       "      <td>1</td>\n",
       "      <td>0</td>\n",
       "      <td>0</td>\n",
       "      <td>0</td>\n",
       "      <td>data scientist</td>\n",
       "      <td>na</td>\n",
       "      <td>M</td>\n",
       "    </tr>\n",
       "    <tr>\n",
       "      <th>1</th>\n",
       "      <td>Healthcare Data Scientist</td>\n",
       "      <td>$63K-$112K (Glassdoor est.)</td>\n",
       "      <td>What You Will Do:\\n\\nI. General Summary\\n\\nThe...</td>\n",
       "      <td>3.4</td>\n",
       "      <td>University of Maryland Medical System\\n3.4</td>\n",
       "      <td>Linthicum, MD</td>\n",
       "      <td>Baltimore, MD</td>\n",
       "      <td>10000+</td>\n",
       "      <td>1984</td>\n",
       "      <td>Other Organization</td>\n",
       "      <td>...</td>\n",
       "      <td>0</td>\n",
       "      <td>0</td>\n",
       "      <td>0</td>\n",
       "      <td>0</td>\n",
       "      <td>0</td>\n",
       "      <td>0</td>\n",
       "      <td>0</td>\n",
       "      <td>data scientist</td>\n",
       "      <td>na</td>\n",
       "      <td>M</td>\n",
       "    </tr>\n",
       "    <tr>\n",
       "      <th>2</th>\n",
       "      <td>Data Scientist</td>\n",
       "      <td>$80K-$90K (Glassdoor est.)</td>\n",
       "      <td>KnowBe4, Inc. is a high growth information sec...</td>\n",
       "      <td>4.8</td>\n",
       "      <td>KnowBe4\\n4.8</td>\n",
       "      <td>Clearwater, FL</td>\n",
       "      <td>Clearwater, FL</td>\n",
       "      <td>501 - 1000</td>\n",
       "      <td>2010</td>\n",
       "      <td>Company - Private</td>\n",
       "      <td>...</td>\n",
       "      <td>0</td>\n",
       "      <td>0</td>\n",
       "      <td>0</td>\n",
       "      <td>0</td>\n",
       "      <td>0</td>\n",
       "      <td>0</td>\n",
       "      <td>0</td>\n",
       "      <td>data scientist</td>\n",
       "      <td>na</td>\n",
       "      <td>M</td>\n",
       "    </tr>\n",
       "    <tr>\n",
       "      <th>3</th>\n",
       "      <td>Data Scientist</td>\n",
       "      <td>$56K-$97K (Glassdoor est.)</td>\n",
       "      <td>*Organization and Job ID**\\nJob ID: 310709\\n\\n...</td>\n",
       "      <td>3.8</td>\n",
       "      <td>PNNL\\n3.8</td>\n",
       "      <td>Richland, WA</td>\n",
       "      <td>Richland, WA</td>\n",
       "      <td>1001 - 5000</td>\n",
       "      <td>1965</td>\n",
       "      <td>Government</td>\n",
       "      <td>...</td>\n",
       "      <td>0</td>\n",
       "      <td>0</td>\n",
       "      <td>0</td>\n",
       "      <td>0</td>\n",
       "      <td>0</td>\n",
       "      <td>0</td>\n",
       "      <td>0</td>\n",
       "      <td>data scientist</td>\n",
       "      <td>na</td>\n",
       "      <td>na</td>\n",
       "    </tr>\n",
       "    <tr>\n",
       "      <th>4</th>\n",
       "      <td>Data Scientist</td>\n",
       "      <td>$86K-$143K (Glassdoor est.)</td>\n",
       "      <td>Data Scientist\\nAffinity Solutions / Marketing...</td>\n",
       "      <td>2.9</td>\n",
       "      <td>Affinity Solutions\\n2.9</td>\n",
       "      <td>New York, NY</td>\n",
       "      <td>New York, NY</td>\n",
       "      <td>51 - 200</td>\n",
       "      <td>1998</td>\n",
       "      <td>Company - Private</td>\n",
       "      <td>...</td>\n",
       "      <td>0</td>\n",
       "      <td>0</td>\n",
       "      <td>0</td>\n",
       "      <td>0</td>\n",
       "      <td>0</td>\n",
       "      <td>0</td>\n",
       "      <td>0</td>\n",
       "      <td>data scientist</td>\n",
       "      <td>na</td>\n",
       "      <td>na</td>\n",
       "    </tr>\n",
       "    <tr>\n",
       "      <th>...</th>\n",
       "      <td>...</td>\n",
       "      <td>...</td>\n",
       "      <td>...</td>\n",
       "      <td>...</td>\n",
       "      <td>...</td>\n",
       "      <td>...</td>\n",
       "      <td>...</td>\n",
       "      <td>...</td>\n",
       "      <td>...</td>\n",
       "      <td>...</td>\n",
       "      <td>...</td>\n",
       "      <td>...</td>\n",
       "      <td>...</td>\n",
       "      <td>...</td>\n",
       "      <td>...</td>\n",
       "      <td>...</td>\n",
       "      <td>...</td>\n",
       "      <td>...</td>\n",
       "      <td>...</td>\n",
       "      <td>...</td>\n",
       "      <td>...</td>\n",
       "    </tr>\n",
       "    <tr>\n",
       "      <th>737</th>\n",
       "      <td>Sr Scientist, Immuno-Oncology - Oncology</td>\n",
       "      <td>$58K-$111K (Glassdoor est.)</td>\n",
       "      <td>Site Name: USA - Massachusetts - Cambridge\\nPo...</td>\n",
       "      <td>3.9</td>\n",
       "      <td>GSK\\n3.9</td>\n",
       "      <td>Cambridge, MA</td>\n",
       "      <td>Brentford, United Kingdom</td>\n",
       "      <td>10000+</td>\n",
       "      <td>1830</td>\n",
       "      <td>Company - Public</td>\n",
       "      <td>...</td>\n",
       "      <td>0</td>\n",
       "      <td>0</td>\n",
       "      <td>0</td>\n",
       "      <td>0</td>\n",
       "      <td>0</td>\n",
       "      <td>0</td>\n",
       "      <td>0</td>\n",
       "      <td>other scientist</td>\n",
       "      <td>sr</td>\n",
       "      <td>M</td>\n",
       "    </tr>\n",
       "    <tr>\n",
       "      <th>738</th>\n",
       "      <td>Senior Data Engineer</td>\n",
       "      <td>$72K-$133K (Glassdoor est.)</td>\n",
       "      <td>THE CHALLENGE\\nEventbrite has a world-class da...</td>\n",
       "      <td>4.4</td>\n",
       "      <td>Eventbrite\\n4.4</td>\n",
       "      <td>Nashville, TN</td>\n",
       "      <td>San Francisco, CA</td>\n",
       "      <td>1001 - 5000</td>\n",
       "      <td>2006</td>\n",
       "      <td>Company - Public</td>\n",
       "      <td>...</td>\n",
       "      <td>0</td>\n",
       "      <td>1</td>\n",
       "      <td>0</td>\n",
       "      <td>0</td>\n",
       "      <td>0</td>\n",
       "      <td>0</td>\n",
       "      <td>0</td>\n",
       "      <td>data engineer</td>\n",
       "      <td>sr</td>\n",
       "      <td>na</td>\n",
       "    </tr>\n",
       "    <tr>\n",
       "      <th>739</th>\n",
       "      <td>Project Scientist - Auton Lab, Robotics Institute</td>\n",
       "      <td>$56K-$91K (Glassdoor est.)</td>\n",
       "      <td>The Auton Lab at Carnegie Mellon University is...</td>\n",
       "      <td>2.6</td>\n",
       "      <td>Software Engineering Institute\\n2.6</td>\n",
       "      <td>Pittsburgh, PA</td>\n",
       "      <td>Pittsburgh, PA</td>\n",
       "      <td>501 - 1000</td>\n",
       "      <td>1984</td>\n",
       "      <td>College / University</td>\n",
       "      <td>...</td>\n",
       "      <td>0</td>\n",
       "      <td>0</td>\n",
       "      <td>0</td>\n",
       "      <td>0</td>\n",
       "      <td>0</td>\n",
       "      <td>0</td>\n",
       "      <td>0</td>\n",
       "      <td>other scientist</td>\n",
       "      <td>na</td>\n",
       "      <td>P</td>\n",
       "    </tr>\n",
       "    <tr>\n",
       "      <th>740</th>\n",
       "      <td>Data Science Manager</td>\n",
       "      <td>$95K-$160K (Glassdoor est.)</td>\n",
       "      <td>Data Science ManagerResponsibilities:\\n\\nOvers...</td>\n",
       "      <td>3.2</td>\n",
       "      <td>Numeric, LLC\\n3.2</td>\n",
       "      <td>Allentown, PA</td>\n",
       "      <td>Chadds Ford, PA</td>\n",
       "      <td>1 - 50</td>\n",
       "      <td>-1</td>\n",
       "      <td>Company - Private</td>\n",
       "      <td>...</td>\n",
       "      <td>0</td>\n",
       "      <td>0</td>\n",
       "      <td>0</td>\n",
       "      <td>0</td>\n",
       "      <td>0</td>\n",
       "      <td>0</td>\n",
       "      <td>0</td>\n",
       "      <td>data scientist</td>\n",
       "      <td>na</td>\n",
       "      <td>na</td>\n",
       "    </tr>\n",
       "    <tr>\n",
       "      <th>741</th>\n",
       "      <td>Research Scientist – Security and Privacy</td>\n",
       "      <td>$61K-$126K (Glassdoor est.)</td>\n",
       "      <td>Returning Candidate? Log back in to the Career...</td>\n",
       "      <td>3.6</td>\n",
       "      <td>Riverside Research Institute\\n3.6</td>\n",
       "      <td>Beavercreek, OH</td>\n",
       "      <td>Arlington, VA</td>\n",
       "      <td>501 - 1000</td>\n",
       "      <td>1967</td>\n",
       "      <td>Nonprofit Organization</td>\n",
       "      <td>...</td>\n",
       "      <td>0</td>\n",
       "      <td>0</td>\n",
       "      <td>0</td>\n",
       "      <td>0</td>\n",
       "      <td>0</td>\n",
       "      <td>0</td>\n",
       "      <td>0</td>\n",
       "      <td>other scientist</td>\n",
       "      <td>na</td>\n",
       "      <td>M</td>\n",
       "    </tr>\n",
       "  </tbody>\n",
       "</table>\n",
       "<p>742 rows × 41 columns</p>\n",
       "</div>"
      ],
      "text/plain": [
       "                                             Job Title  \\\n",
       "0                                       Data Scientist   \n",
       "1                            Healthcare Data Scientist   \n",
       "2                                       Data Scientist   \n",
       "3                                       Data Scientist   \n",
       "4                                       Data Scientist   \n",
       "..                                                 ...   \n",
       "737           Sr Scientist, Immuno-Oncology - Oncology   \n",
       "738                               Senior Data Engineer   \n",
       "739  Project Scientist - Auton Lab, Robotics Institute   \n",
       "740                               Data Science Manager   \n",
       "741          Research Scientist – Security and Privacy   \n",
       "\n",
       "                 Salary Estimate  \\\n",
       "0     $53K-$91K (Glassdoor est.)   \n",
       "1    $63K-$112K (Glassdoor est.)   \n",
       "2     $80K-$90K (Glassdoor est.)   \n",
       "3     $56K-$97K (Glassdoor est.)   \n",
       "4    $86K-$143K (Glassdoor est.)   \n",
       "..                           ...   \n",
       "737  $58K-$111K (Glassdoor est.)   \n",
       "738  $72K-$133K (Glassdoor est.)   \n",
       "739   $56K-$91K (Glassdoor est.)   \n",
       "740  $95K-$160K (Glassdoor est.)   \n",
       "741  $61K-$126K (Glassdoor est.)   \n",
       "\n",
       "                                       Job Description  Rating  \\\n",
       "0    Data Scientist\\nLocation: Albuquerque, NM\\nEdu...     3.8   \n",
       "1    What You Will Do:\\n\\nI. General Summary\\n\\nThe...     3.4   \n",
       "2    KnowBe4, Inc. is a high growth information sec...     4.8   \n",
       "3    *Organization and Job ID**\\nJob ID: 310709\\n\\n...     3.8   \n",
       "4    Data Scientist\\nAffinity Solutions / Marketing...     2.9   \n",
       "..                                                 ...     ...   \n",
       "737  Site Name: USA - Massachusetts - Cambridge\\nPo...     3.9   \n",
       "738  THE CHALLENGE\\nEventbrite has a world-class da...     4.4   \n",
       "739  The Auton Lab at Carnegie Mellon University is...     2.6   \n",
       "740  Data Science ManagerResponsibilities:\\n\\nOvers...     3.2   \n",
       "741  Returning Candidate? Log back in to the Career...     3.6   \n",
       "\n",
       "                                   Company Name         Location  \\\n",
       "0                        Tecolote Research\\n3.8  Albuquerque, NM   \n",
       "1    University of Maryland Medical System\\n3.4    Linthicum, MD   \n",
       "2                                  KnowBe4\\n4.8   Clearwater, FL   \n",
       "3                                     PNNL\\n3.8     Richland, WA   \n",
       "4                       Affinity Solutions\\n2.9     New York, NY   \n",
       "..                                          ...              ...   \n",
       "737                                    GSK\\n3.9    Cambridge, MA   \n",
       "738                             Eventbrite\\n4.4    Nashville, TN   \n",
       "739         Software Engineering Institute\\n2.6   Pittsburgh, PA   \n",
       "740                           Numeric, LLC\\n3.2    Allentown, PA   \n",
       "741           Riverside Research Institute\\n3.6  Beavercreek, OH   \n",
       "\n",
       "                  Headquarters          Size  Founded       Type of ownership  \\\n",
       "0                   Goleta, CA   501 - 1000      1973       Company - Private   \n",
       "1                Baltimore, MD       10000+      1984      Other Organization   \n",
       "2               Clearwater, FL   501 - 1000      2010       Company - Private   \n",
       "3                 Richland, WA  1001 - 5000      1965              Government   \n",
       "4                 New York, NY     51 - 200      1998       Company - Private   \n",
       "..                         ...           ...      ...                     ...   \n",
       "737  Brentford, United Kingdom       10000+      1830        Company - Public   \n",
       "738          San Francisco, CA  1001 - 5000      2006        Company - Public   \n",
       "739             Pittsburgh, PA   501 - 1000      1984    College / University   \n",
       "740            Chadds Ford, PA       1 - 50        -1       Company - Private   \n",
       "741              Arlington, VA   501 - 1000      1967  Nonprofit Organization   \n",
       "\n",
       "     ... tensor hadoop tableau bi  flink  mongo  google_an    job_title_sim  \\\n",
       "0    ...      0      0       1  1      0      0          0   data scientist   \n",
       "1    ...      0      0       0  0      0      0          0   data scientist   \n",
       "2    ...      0      0       0  0      0      0          0   data scientist   \n",
       "3    ...      0      0       0  0      0      0          0   data scientist   \n",
       "4    ...      0      0       0  0      0      0          0   data scientist   \n",
       "..   ...    ...    ...     ... ..    ...    ...        ...              ...   \n",
       "737  ...      0      0       0  0      0      0          0  other scientist   \n",
       "738  ...      0      1       0  0      0      0          0    data engineer   \n",
       "739  ...      0      0       0  0      0      0          0  other scientist   \n",
       "740  ...      0      0       0  0      0      0          0   data scientist   \n",
       "741  ...      0      0       0  0      0      0          0  other scientist   \n",
       "\n",
       "     seniority_by_title Degree  \n",
       "0                    na      M  \n",
       "1                    na      M  \n",
       "2                    na      M  \n",
       "3                    na     na  \n",
       "4                    na     na  \n",
       "..                  ...    ...  \n",
       "737                  sr      M  \n",
       "738                  sr     na  \n",
       "739                  na      P  \n",
       "740                  na     na  \n",
       "741                  na      M  \n",
       "\n",
       "[742 rows x 41 columns]"
      ]
     },
     "execution_count": 1,
     "metadata": {},
     "output_type": "execute_result"
    }
   ],
   "source": [
    "import pandas as pd\n",
    "import matplotlib as plt\n",
    "col = list(pd.read_csv(\"data_2021.csv\",nrows = 1).columns)\n",
    "df = pd.read_csv(\"data_2021.csv\", usecols=[ i for i in col if i != \"index\"])\n",
    "df"
   ]
  },
  {
   "cell_type": "code",
   "execution_count": 2,
   "id": "16bb3711-4bc4-43d6-8ecd-f1720029df46",
   "metadata": {},
   "outputs": [
    {
     "data": {
      "text/plain": [
       "742"
      ]
     },
     "execution_count": 2,
     "metadata": {},
     "output_type": "execute_result"
    }
   ],
   "source": [
    "len(df)"
   ]
  },
  {
   "cell_type": "code",
   "execution_count": 3,
   "id": "70418443-a7dd-412f-bd1a-b6a68f76e3dc",
   "metadata": {},
   "outputs": [
    {
     "data": {
      "text/plain": [
       "41"
      ]
     },
     "execution_count": 3,
     "metadata": {},
     "output_type": "execute_result"
    }
   ],
   "source": [
    "len(df.columns)"
   ]
  },
  {
   "cell_type": "code",
   "execution_count": 4,
   "id": "a34a0814-2c24-4f76-a1d5-280e50f5ef66",
   "metadata": {},
   "outputs": [
    {
     "data": {
      "text/plain": [
       "Index(['Job Title', 'Salary Estimate', 'Job Description', 'Rating',\n",
       "       'Company Name', 'Location', 'Headquarters', 'Size', 'Founded',\n",
       "       'Type of ownership', 'Industry', 'Sector', 'Revenue', 'Competitors',\n",
       "       'Hourly', 'Employer provided', 'Lower Salary', 'Upper Salary',\n",
       "       'Avg Salary(K)', 'company_txt', 'Job Location', 'Age', 'Python',\n",
       "       'spark', 'aws', 'excel', 'sql', 'sas', 'keras', 'pytorch', 'scikit',\n",
       "       'tensor', 'hadoop', 'tableau', 'bi', 'flink', 'mongo', 'google_an',\n",
       "       'job_title_sim', 'seniority_by_title', 'Degree'],\n",
       "      dtype='object')"
      ]
     },
     "execution_count": 4,
     "metadata": {},
     "output_type": "execute_result"
    }
   ],
   "source": [
    "df.columns"
   ]
  },
  {
   "cell_type": "code",
   "execution_count": 5,
   "id": "77fae406-4e32-489e-8969-2d09555a6ae6",
   "metadata": {},
   "outputs": [
    {
     "data": {
      "text/plain": [
       "254.0"
      ]
     },
     "execution_count": 5,
     "metadata": {},
     "output_type": "execute_result"
    }
   ],
   "source": [
    "df['Avg Salary(K)'].max()"
   ]
  },
  {
   "cell_type": "code",
   "execution_count": 6,
   "id": "afe2c695-4027-45e6-9726-1a1830f2bd2a",
   "metadata": {},
   "outputs": [
    {
     "data": {
      "text/plain": [
       "15.5"
      ]
     },
     "execution_count": 6,
     "metadata": {},
     "output_type": "execute_result"
    }
   ],
   "source": [
    "df['Avg Salary(K)'].min()"
   ]
  },
  {
   "cell_type": "code",
   "execution_count": 7,
   "id": "d7fdad70-c16e-402a-ad35-8a10d82c4f3d",
   "metadata": {},
   "outputs": [
    {
     "data": {
      "text/plain": [
       "2019"
      ]
     },
     "execution_count": 7,
     "metadata": {},
     "output_type": "execute_result"
    }
   ],
   "source": [
    "df[\"Founded\"].max()"
   ]
  },
  {
   "cell_type": "code",
   "execution_count": 8,
   "id": "6bcd7881-63ce-4b6d-8b25-a85dcd257aaa",
   "metadata": {},
   "outputs": [
    {
     "data": {
      "text/plain": [
       "-1"
      ]
     },
     "execution_count": 8,
     "metadata": {},
     "output_type": "execute_result"
    }
   ],
   "source": [
    "df[\"Founded\"].min()"
   ]
  },
  {
   "cell_type": "code",
   "execution_count": 9,
   "id": "1ad25532-ee30-4dce-8960-f0642b31db17",
   "metadata": {},
   "outputs": [
    {
     "data": {
      "text/plain": [
       "{'Data scientist project manager',\n",
       " 'analyst',\n",
       " 'data analitics',\n",
       " 'data engineer',\n",
       " 'data modeler',\n",
       " 'data scientist',\n",
       " 'director',\n",
       " 'machine learning engineer',\n",
       " 'na',\n",
       " 'other scientist'}"
      ]
     },
     "execution_count": 9,
     "metadata": {},
     "output_type": "execute_result"
    }
   ],
   "source": [
    "set(df[\"job_title_sim\"])"
   ]
  },
  {
   "cell_type": "code",
   "execution_count": 10,
   "id": "35c44346-46b5-4f6a-9919-f7088dc8ad2a",
   "metadata": {},
   "outputs": [
    {
     "data": {
      "text/plain": [
       "93.26145552560648"
      ]
     },
     "execution_count": 10,
     "metadata": {},
     "output_type": "execute_result"
    }
   ],
   "source": [
    "count = 0\n",
    "empty = 0\n",
    "for i in df[\"Founded\"]:\n",
    "    if(i == -1):\n",
    "        empty += 1\n",
    "    count += 1\n",
    "(1-empty/count)*100"
   ]
  },
  {
   "cell_type": "code",
   "execution_count": 17,
   "id": "4ff89fa2-4435-490d-b06e-d1f1f48024bb",
   "metadata": {},
   "outputs": [
    {
     "ename": "AttributeError",
     "evalue": "'list' object has no attribute 'join'",
     "output_type": "error",
     "traceback": [
      "\u001b[1;31m---------------------------------------------------------------------------\u001b[0m",
      "\u001b[1;31mAttributeError\u001b[0m                            Traceback (most recent call last)",
      "\u001b[1;32m~\\AppData\\Local\\Temp\\ipykernel_1612\\973528717.py\u001b[0m in \u001b[0;36m<module>\u001b[1;34m\u001b[0m\n\u001b[0;32m      5\u001b[0m     \u001b[1;32mfor\u001b[0m \u001b[0mi\u001b[0m \u001b[1;32min\u001b[0m \u001b[0mest\u001b[0m\u001b[1;33m:\u001b[0m\u001b[1;33m\u001b[0m\u001b[1;33m\u001b[0m\u001b[0m\n\u001b[0;32m      6\u001b[0m         \u001b[0mnum\u001b[0m \u001b[1;33m=\u001b[0m \u001b[0mre\u001b[0m\u001b[1;33m.\u001b[0m\u001b[0mfindall\u001b[0m\u001b[1;33m(\u001b[0m\u001b[1;34m\"\\d\"\u001b[0m\u001b[1;33m,\u001b[0m\u001b[0mi\u001b[0m\u001b[1;33m)\u001b[0m\u001b[1;33m\u001b[0m\u001b[1;33m\u001b[0m\u001b[0m\n\u001b[1;32m----> 7\u001b[1;33m         \u001b[0mprint\u001b[0m\u001b[1;33m(\u001b[0m\u001b[0mnum\u001b[0m\u001b[1;33m.\u001b[0m\u001b[0mjoin\u001b[0m\u001b[1;33m(\u001b[0m\u001b[1;33m)\u001b[0m\u001b[1;33m)\u001b[0m\u001b[1;33m\u001b[0m\u001b[1;33m\u001b[0m\u001b[0m\n\u001b[0m",
      "\u001b[1;31mAttributeError\u001b[0m: 'list' object has no attribute 'join'"
     ]
    }
   ],
   "source": [
    "import re\n",
    "salary_est = []\n",
    "for est in df[\"Salary Estimate\"]:\n",
    "    est = est.split(\"-\")\n",
    "    rnge = [0,0]\n",
    "    count = 0\n",
    "    for i in est:\n",
    "        num = re.findall(\"\\d\",i)\n",
    "        n = \"\"\n",
    "        for a in num:\n",
    "            n += a\n",
    "        rnge[count] = int(n)\n",
    "        count += 1\n",
    "    salary_est.append(rnge)\n",
    "    "
   ]
  },
  {
   "cell_type": "code",
   "execution_count": null,
   "id": "fc69275a-c011-4174-92c7-031e898550fb",
   "metadata": {},
   "outputs": [],
   "source": []
  },
  {
   "cell_type": "code",
   "execution_count": null,
   "id": "0c6ebe23-21dc-4dbf-abff-056cfe71f346",
   "metadata": {},
   "outputs": [],
   "source": []
  }
 ],
 "metadata": {
  "kernelspec": {
   "display_name": "Python 3 (ipykernel)",
   "language": "python",
   "name": "python3"
  },
  "language_info": {
   "codemirror_mode": {
    "name": "ipython",
    "version": 3
   },
   "file_extension": ".py",
   "mimetype": "text/x-python",
   "name": "python",
   "nbconvert_exporter": "python",
   "pygments_lexer": "ipython3",
   "version": "3.9.13"
  }
 },
 "nbformat": 4,
 "nbformat_minor": 5
}
